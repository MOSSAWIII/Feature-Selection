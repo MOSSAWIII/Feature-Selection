{
  "nbformat": 4,
  "nbformat_minor": 0,
  "metadata": {
    "colab": {
      "provenance": [],
      "authorship_tag": "ABX9TyPrXngPUvxbeG857L/g81y/",
      "include_colab_link": true
    },
    "kernelspec": {
      "name": "python3",
      "display_name": "Python 3"
    },
    "language_info": {
      "name": "python"
    }
  },
  "cells": [
    {
      "cell_type": "markdown",
      "metadata": {
        "id": "view-in-github",
        "colab_type": "text"
      },
      "source": [
        "<a href=\"https://colab.research.google.com/github/MOSSAWIII/Feature-Selection/blob/main/SimulatedAnnealing.ipynb\" target=\"_parent\"><img src=\"https://colab.research.google.com/assets/colab-badge.svg\" alt=\"Open In Colab\"/></a>"
      ]
    },
    {
      "cell_type": "code",
      "source": [
        "import numpy as np\n",
        "from sklearn.metrics import roc_auc_score, recall_score, precision_score\n",
        "from sklearn.model_selection import StratifiedKFold\n",
        "from sklearn.linear_model import LogisticRegression\n",
        "from sklearn.ensemble import RandomForestClassifier"
      ],
      "metadata": {
        "id": "d0mWhGbm6Nng"
      },
      "execution_count": null,
      "outputs": []
    },
    {
      "cell_type": "code",
      "source": [],
      "metadata": {
        "id": "jVgfakiT_Cmk"
      },
      "execution_count": null,
      "outputs": []
    },
    {
      "cell_type": "code",
      "execution_count": null,
      "metadata": {
        "id": "2w0tmbhF6Kog"
      },
      "outputs": [],
      "source": [
        "def simulated_annealing_cv(X, y, model, iterations, restart_threshold, initial_size=0.5, n_splits=10):\n",
        "  \"\"\"\n",
        "  Performs simulated annealing for feature selection with stratified cross-validation and returns best features, best AUC ROC score, sensitivity, specificity, and standard deviation of the best score.\n",
        "\n",
        "  Args:\n",
        "      X (np.array): Feature matrix.\n",
        "      y (np.array): Target labels (CASE or CTRL).\n",
        "      model (object): A scikit-learn compatible model object.\n",
        "      iterations (int): Number of iterations for the simulated annealing process.\n",
        "      restart_threshold (int): Threshold for restarting the search.\n",
        "      initial_size (float): Proportion of features to include in the initial subset.\n",
        "      n_splits (int): Number of splits for stratified cross-validation.\n",
        "\n",
        "  Returns:\n",
        "      tuple: (best_features, best_score, best_sensitivity, best_specificity, score_std)\n",
        "  \"\"\"\n",
        "\n",
        "  skf = StratifiedKFold(n_splits=n_splits)\n",
        "  best_features = None\n",
        "  best_scores = []\n",
        "  best_sensitivities = []\n",
        "  best_specificities = []\n",
        "  best_params = None\n",
        "\n",
        "  for train_index, val_index in skf.split(X, y):\n",
        "    X_train, X_val = X[train_index], X[val_index]\n",
        "    y_train, y_val = y[train_index], y[val_index]\n",
        "\n",
        "    # Initialize features\n",
        "    num_features = X.shape[1]\n",
        "    current_features = np.random.choice(num_features, int(num_features * initial_size), replace=False)\n",
        "    best_features_fold = current_features\n",
        "    best_score_fold = 0\n",
        "    best_params_fold = None\n",
        "    best_sensitivity_fold = 0\n",
        "    best_specificity_fold = 0\n",
        "    iteration = 0\n",
        "    no_improvement_count = 0\n",
        "\n",
        "    while iteration < iterations:\n",
        "      # Perturb features\n",
        "      perturbed_features = current_features.copy()\n",
        "      to_change = np.random.randint(0, len(perturbed_features))\n",
        "      if np.random.rand() < 0.5:\n",
        "        # Add a feature\n",
        "        candidate_feature = np.random.choice(list(set(range(num_features)) - set(perturbed_features)))\n",
        "        perturbed_features = np.append(perturbed_features, candidate_feature)\n",
        "      else:\n",
        "        # Remove a feature\n",
        "        perturbed_features = np.delete(perturbed_features, to_change)\n",
        "\n",
        "      # Evaluate candidate model\n",
        "      model.fit(X_train[:, perturbed_features], y_train)\n",
        "      y_pred = model.predict(X_val[:, perturbed_features])\n",
        "      score = roc_auc_score(y_val, y_pred)\n",
        "      sensitivity = recall_score(y_val, y_pred)\n",
        "      specificity = recall_score(y_val, y_pred, pos_label=0)\n",
        "\n",
        "      # Print metrics for information (not used for decision making)\n",
        "      print(f\"Iteration {iteration}, Features: {len(perturbed_features)}, ROC_AUC: {score:.4f}, Sensitivity: {sensitivity:.4f}, Specificity: {specificity:.4f}\")\n",
        "\n",
        "      # Acceptance probability (based on ROC_AUC only)\n",
        "      if score > best_score_fold:\n",
        "        best_score_fold = score\n",
        "        best_features_fold = perturbed_features\n",
        "        best_params_fold = model.get_params()\n",
        "        best_sensitivity_fold = sensitivity\n",
        "        best_specificity_fold = specificity\n",
        "        no_improvement_count = 0\n",
        "      else:\n",
        "        acceptance_probability = np.exp((score - best_score_fold) / (iteration + 1))\n",
        "        if np.random.rand() < acceptance_probability:\n",
        "          current_features = perturbed_features\n",
        "        no_improvement_count += 1\n",
        "\n",
        "      # Restart if necessary\n",
        "      if no_improvement_count >= restart_threshold:\n",
        "        current_features = best_features_fold.copy()\n",
        "        no_improvement_count = 0\n",
        "\n",
        "      iteration += 1\n",
        "\n",
        "    # Store best scores, sensitivities, and specificities for each fold\n",
        "    best_scores.append(best_score_fold)\n",
        "    best_sensitivities.append(best_sensitivity_fold)\n",
        "    best_specificities.append(best_specificity_fold)\n",
        "\n",
        "    # Update best features and best params\n",
        "    if best_features is None:\n",
        "      best_features = best_features_fold\n",
        "      best_params = best_params_fold  # Store best params from the first fold initially\n",
        "    else:\n",
        "      best_features = np.logical_or(best_features, best_features_fold)\n",
        "      if best_score_fold > best_score:  # Update best_params if current fold has a better score\n",
        "        best_params = best_params_fold\n",
        "\n",
        "  best_score = np.mean(best_scores)\n",
        "  best_sensitivity = np.mean(best_sensitivities)\n",
        "  best_specificity = np.mean(best_specificities)\n",
        "  score_std = np.std(best_scores)\n",
        "  return best_features, best_score, best_sensitivity, best_specificity, score_std, best_params\n"
      ]
    },
    {
      "cell_type": "code",
      "source": [
        "# Function for Simulated Annealing with Logistic Regression\n",
        "def SA_LogisticRegression(X, y, iterations, restart_threshold, initial_size=0.5, n_splits=10):\n",
        "  model = LogisticRegression()\n",
        "  best_features, best_score, best_sensitivity, best_specificity, score_std, best_params = simulated_annealing_cv(X, y, model, iterations, restart_threshold, initial_size, n_splits)\n",
        "  return best_features, best_score, best_sensitivity, best_specificity, score_std, best_params\n",
        "\n",
        "# Function for Simulated Annealing with Random Forest\n",
        "def SA_RandomForest(X, y, iterations, restart_threshold, initial_size=0.5, n_splits=10):\n",
        "  model = RandomForestClassifier()\n",
        "  best_features, best_score, best_sensitivity, best_specificity, score_std, best_params = simulated_annealing_cv(X, y, model, iterations, restart_threshold, initial_size, n_splits)\n",
        "  return best_features, best_score, best_sensitivity, best_specificity, score_std, best_params"
      ],
      "metadata": {
        "id": "PKS_qlv_6Qvz"
      },
      "execution_count": null,
      "outputs": []
    }
  ]
}